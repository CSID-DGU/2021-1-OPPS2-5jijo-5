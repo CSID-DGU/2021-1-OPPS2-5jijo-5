{
  "nbformat": 4,
  "nbformat_minor": 0,
  "metadata": {
    "colab": {
      "name": "Untitled3.ipynb",
      "private_outputs": true,
      "provenance": [],
      "collapsed_sections": [],
      "mount_file_id": "1i9wiXGmrf9am0CEBhuElk7hpnFfPDxWL",
      "authorship_tag": "ABX9TyMCt4G+IzUP6/VrsVUrdQJu",
      "include_colab_link": true
    },
    "kernelspec": {
      "name": "python3",
      "display_name": "Python 3"
    },
    "language_info": {
      "name": "python"
    },
    "accelerator": "GPU"
  },
  "cells": [
    {
      "cell_type": "markdown",
      "metadata": {
        "id": "view-in-github",
        "colab_type": "text"
      },
      "source": [
        "<a href=\"https://colab.research.google.com/github/CSID-DGU/2021-1-OPPS2-5jijo-5/blob/main/Untitled3.ipynb\" target=\"_parent\"><img src=\"https://colab.research.google.com/assets/colab-badge.svg\" alt=\"Open In Colab\"/></a>"
      ]
    },
    {
      "cell_type": "code",
      "metadata": {
        "id": "blTnZ2ShMTzd"
      },
      "source": [
        "%cd /content/drive/MyDrive/test/People-Counter-YOLO"
      ],
      "execution_count": null,
      "outputs": []
    },
    {
      "cell_type": "code",
      "metadata": {
        "id": "F2-XlYAFEytJ"
      },
      "source": [
        "!pip install pytube"
      ],
      "execution_count": null,
      "outputs": []
    },
    {
      "cell_type": "code",
      "metadata": {
        "id": "T1Exu8_oEtWw"
      },
      "source": [
        "from pytube import YouTube\n",
        "# 특정영상 다운로드\n",
        "YouTube('https://www.youtube.com/watch?v=DW8x_EqZnxU&t=1s').streams.first().download()"
      ],
      "execution_count": null,
      "outputs": []
    },
    {
      "cell_type": "markdown",
      "metadata": {
        "id": "XwpDqljrD3tk"
      },
      "source": [
        "# 새 섹션"
      ]
    },
    {
      "cell_type": "code",
      "metadata": {
        "id": "elVGWnScYPE9"
      },
      "source": [
        "!python3 yolo.py --video-path=\"1234.avi\""
      ],
      "execution_count": null,
      "outputs": []
    },
    {
      "cell_type": "code",
      "metadata": {
        "id": "ku-a9zpeQt4K"
      },
      "source": [
        "!pip install pymysql"
      ],
      "execution_count": null,
      "outputs": []
    },
    {
      "cell_type": "code",
      "metadata": {
        "id": "2kvlkaMh3MFm"
      },
      "source": [
        "from google.colab import files\n",
        "files.download('t1.txt')\n",
        "# 사람 수에 대한 정보를 로컬로 다운로드"
      ],
      "execution_count": null,
      "outputs": []
    },
    {
      "cell_type": "code",
      "metadata": {
        "id": "mUuhBXR1ktX6"
      },
      "source": [
        "!pip install pymysql"
      ],
      "execution_count": null,
      "outputs": []
    },
    {
      "cell_type": "code",
      "metadata": {
        "id": "x0uytIFHpASH"
      },
      "source": [
        "!python test.py\n",
        "# DB와의 연동"
      ],
      "execution_count": null,
      "outputs": []
    }
  ]
}